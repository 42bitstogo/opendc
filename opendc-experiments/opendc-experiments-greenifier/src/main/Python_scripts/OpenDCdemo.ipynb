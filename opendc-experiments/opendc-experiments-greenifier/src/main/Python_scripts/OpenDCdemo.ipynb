{
 "cells": [
  {
   "cell_type": "code",
   "execution_count": 71,
   "id": "18170001",
   "metadata": {},
   "outputs": [],
   "source": [
    "import numpy as np\n",
    "import pandas as pd\n",
    "import matplotlib.pyplot as plt\n",
    "\n",
    "from IPython.display import display, HTML\n",
    "\n",
    "base_folder = \"../../../../..\""
   ]
  },
  {
   "cell_type": "markdown",
   "id": "422f4d05",
   "metadata": {},
   "source": [
    "## Topologies"
   ]
  },
  {
   "cell_type": "code",
   "execution_count": 72,
   "id": "a2d05361",
   "metadata": {},
   "outputs": [
    {
     "name": "stdout",
     "output_type": "stream",
     "text": [
      "Topology name: multi\n"
     ]
    },
    {
     "data": {
      "text/html": [
       "<table border=\"1\" class=\"dataframe\">\n",
       "  <thead>\n",
       "    <tr style=\"text-align: right;\">\n",
       "      <th></th>\n",
       "      <th>ClusterID</th>\n",
       "      <th>ClusterName</th>\n",
       "      <th>Cores</th>\n",
       "      <th>Speed</th>\n",
       "      <th>Memory</th>\n",
       "      <th>numberOfHosts</th>\n",
       "      <th>memoryCapacityPerHost</th>\n",
       "      <th>coreCountPerHost</th>\n",
       "    </tr>\n",
       "  </thead>\n",
       "  <tbody>\n",
       "    <tr>\n",
       "      <th>0</th>\n",
       "      <td>A01</td>\n",
       "      <td>A01</td>\n",
       "      <td>32</td>\n",
       "      <td>3.20</td>\n",
       "      <td>2048</td>\n",
       "      <td>1</td>\n",
       "      <td>256</td>\n",
       "      <td>32</td>\n",
       "    </tr>\n",
       "    <tr>\n",
       "      <th>1</th>\n",
       "      <td>B01</td>\n",
       "      <td>B01</td>\n",
       "      <td>48</td>\n",
       "      <td>2.93</td>\n",
       "      <td>1256</td>\n",
       "      <td>6</td>\n",
       "      <td>64</td>\n",
       "      <td>8</td>\n",
       "    </tr>\n",
       "    <tr>\n",
       "      <th>2</th>\n",
       "      <td>C01</td>\n",
       "      <td>C01</td>\n",
       "      <td>32</td>\n",
       "      <td>3.20</td>\n",
       "      <td>2048</td>\n",
       "      <td>2</td>\n",
       "      <td>128</td>\n",
       "      <td>16</td>\n",
       "    </tr>\n",
       "  </tbody>\n",
       "</table>"
      ],
      "text/plain": [
       "<IPython.core.display.HTML object>"
      ]
     },
     "metadata": {},
     "output_type": "display_data"
    },
    {
     "name": "stdout",
     "output_type": "stream",
     "text": [
      "Topology name: single\n"
     ]
    },
    {
     "data": {
      "text/html": [
       "<table border=\"1\" class=\"dataframe\">\n",
       "  <thead>\n",
       "    <tr style=\"text-align: right;\">\n",
       "      <th></th>\n",
       "      <th>ClusterID</th>\n",
       "      <th>ClusterName</th>\n",
       "      <th>Cores</th>\n",
       "      <th>Speed</th>\n",
       "      <th>Memory</th>\n",
       "      <th>numberOfHosts</th>\n",
       "      <th>memoryCapacityPerHost</th>\n",
       "      <th>coreCountPerHost</th>\n",
       "    </tr>\n",
       "  </thead>\n",
       "  <tbody>\n",
       "    <tr>\n",
       "      <th>0</th>\n",
       "      <td>A01</td>\n",
       "      <td>A01</td>\n",
       "      <td>8</td>\n",
       "      <td>3.2</td>\n",
       "      <td>128</td>\n",
       "      <td>1</td>\n",
       "      <td>128</td>\n",
       "      <td>8</td>\n",
       "    </tr>\n",
       "  </tbody>\n",
       "</table>"
      ],
      "text/plain": [
       "<IPython.core.display.HTML object>"
      ]
     },
     "metadata": {},
     "output_type": "display_data"
    }
   ],
   "source": [
    "def read_topology(topology_name):\n",
    "    print(f\"Topology name: {topology_name}\")\n",
    "    df = pd.read_csv(f\"{base_folder}/resources/env/{topology_name}.txt\", delimiter=\";\")\n",
    "    display(HTML(df.to_html()))\n",
    "        \n",
    "read_topology(\"multi\")\n",
    "read_topology(\"single\")"
   ]
  },
  {
   "cell_type": "markdown",
   "id": "8f4fe54d",
   "metadata": {},
   "source": [
    "## Traces"
   ]
  },
  {
   "cell_type": "code",
   "execution_count": 73,
   "id": "fd17d88a",
   "metadata": {},
   "outputs": [
    {
     "data": {
      "text/html": [
       "<div>\n",
       "<style scoped>\n",
       "    .dataframe tbody tr th:only-of-type {\n",
       "        vertical-align: middle;\n",
       "    }\n",
       "\n",
       "    .dataframe tbody tr th {\n",
       "        vertical-align: top;\n",
       "    }\n",
       "\n",
       "    .dataframe thead th {\n",
       "        text-align: right;\n",
       "    }\n",
       "</style>\n",
       "<table border=\"1\" class=\"dataframe\">\n",
       "  <thead>\n",
       "    <tr style=\"text-align: right;\">\n",
       "      <th></th>\n",
       "      <th>id</th>\n",
       "      <th>timestamp</th>\n",
       "      <th>duration</th>\n",
       "      <th>cpu_count</th>\n",
       "      <th>cpu_usage</th>\n",
       "    </tr>\n",
       "  </thead>\n",
       "  <tbody>\n",
       "    <tr>\n",
       "      <th>276974</th>\n",
       "      <td>997</td>\n",
       "      <td>2013-09-11 13:19:58+00:00</td>\n",
       "      <td>300000</td>\n",
       "      <td>8</td>\n",
       "      <td>10524.798812</td>\n",
       "    </tr>\n",
       "    <tr>\n",
       "      <th>276975</th>\n",
       "      <td>997</td>\n",
       "      <td>2013-09-11 13:24:58+00:00</td>\n",
       "      <td>300000</td>\n",
       "      <td>8</td>\n",
       "      <td>10761.598785</td>\n",
       "    </tr>\n",
       "    <tr>\n",
       "      <th>276976</th>\n",
       "      <td>997</td>\n",
       "      <td>2013-09-11 13:29:58+00:00</td>\n",
       "      <td>300000</td>\n",
       "      <td>8</td>\n",
       "      <td>12289.598612</td>\n",
       "    </tr>\n",
       "    <tr>\n",
       "      <th>276977</th>\n",
       "      <td>997</td>\n",
       "      <td>2013-09-11 13:34:58+00:00</td>\n",
       "      <td>300000</td>\n",
       "      <td>8</td>\n",
       "      <td>10044.798866</td>\n",
       "    </tr>\n",
       "    <tr>\n",
       "      <th>276978</th>\n",
       "      <td>997</td>\n",
       "      <td>2013-09-11 13:39:58+00:00</td>\n",
       "      <td>300000</td>\n",
       "      <td>8</td>\n",
       "      <td>11751.998673</td>\n",
       "    </tr>\n",
       "  </tbody>\n",
       "</table>\n",
       "</div>"
      ],
      "text/plain": [
       "         id                 timestamp  duration  cpu_count     cpu_usage\n",
       "276974  997 2013-09-11 13:19:58+00:00    300000          8  10524.798812\n",
       "276975  997 2013-09-11 13:24:58+00:00    300000          8  10761.598785\n",
       "276976  997 2013-09-11 13:29:58+00:00    300000          8  12289.598612\n",
       "276977  997 2013-09-11 13:34:58+00:00    300000          8  10044.798866\n",
       "276978  997 2013-09-11 13:39:58+00:00    300000          8  11751.998673"
      ]
     },
     "execution_count": 73,
     "metadata": {},
     "output_type": "execute_result"
    }
   ],
   "source": [
    "df_trace = pd.read_parquet(f\"{base_folder}/resources/bitbrains-small/trace/trace.parquet\")\n",
    "df_trace.tail()"
   ]
  },
  {
   "cell_type": "code",
   "execution_count": 74,
   "id": "264f6ba7",
   "metadata": {},
   "outputs": [
    {
     "data": {
      "text/plain": [
       "50"
      ]
     },
     "execution_count": 74,
     "metadata": {},
     "output_type": "execute_result"
    }
   ],
   "source": [
    "len(df_server_single[\"server_id\"].unique())"
   ]
  },
  {
   "cell_type": "code",
   "execution_count": 75,
   "id": "346f097f",
   "metadata": {
    "scrolled": true
   },
   "outputs": [
    {
     "data": {
      "text/html": [
       "<div>\n",
       "<style scoped>\n",
       "    .dataframe tbody tr th:only-of-type {\n",
       "        vertical-align: middle;\n",
       "    }\n",
       "\n",
       "    .dataframe tbody tr th {\n",
       "        vertical-align: top;\n",
       "    }\n",
       "\n",
       "    .dataframe thead th {\n",
       "        text-align: right;\n",
       "    }\n",
       "</style>\n",
       "<table border=\"1\" class=\"dataframe\">\n",
       "  <thead>\n",
       "    <tr style=\"text-align: right;\">\n",
       "      <th></th>\n",
       "      <th>id</th>\n",
       "      <th>start_time</th>\n",
       "      <th>stop_time</th>\n",
       "      <th>cpu_count</th>\n",
       "      <th>cpu_capacity</th>\n",
       "      <th>mem_capacity</th>\n",
       "    </tr>\n",
       "  </thead>\n",
       "  <tbody>\n",
       "    <tr>\n",
       "      <th>0</th>\n",
       "      <td>1019</td>\n",
       "      <td>2013-08-12 13:35:46+00:00</td>\n",
       "      <td>2013-09-11 13:39:58+00:00</td>\n",
       "      <td>1</td>\n",
       "      <td>2926.000135</td>\n",
       "      <td>181352</td>\n",
       "    </tr>\n",
       "    <tr>\n",
       "      <th>1</th>\n",
       "      <td>1023</td>\n",
       "      <td>2013-08-12 13:35:46+00:00</td>\n",
       "      <td>2013-09-11 13:39:58+00:00</td>\n",
       "      <td>1</td>\n",
       "      <td>2925.999560</td>\n",
       "      <td>260096</td>\n",
       "    </tr>\n",
       "    <tr>\n",
       "      <th>2</th>\n",
       "      <td>1026</td>\n",
       "      <td>2013-08-12 13:35:46+00:00</td>\n",
       "      <td>2013-09-11 13:39:58+00:00</td>\n",
       "      <td>1</td>\n",
       "      <td>2925.999717</td>\n",
       "      <td>249972</td>\n",
       "    </tr>\n",
       "    <tr>\n",
       "      <th>3</th>\n",
       "      <td>1052</td>\n",
       "      <td>2013-08-29 14:38:12+00:00</td>\n",
       "      <td>2013-09-05 07:09:07+00:00</td>\n",
       "      <td>1</td>\n",
       "      <td>2926.000107</td>\n",
       "      <td>131245</td>\n",
       "    </tr>\n",
       "    <tr>\n",
       "      <th>4</th>\n",
       "      <td>1073</td>\n",
       "      <td>2013-08-21 11:07:12+00:00</td>\n",
       "      <td>2013-09-11 13:39:58+00:00</td>\n",
       "      <td>1</td>\n",
       "      <td>2599.999649</td>\n",
       "      <td>179306</td>\n",
       "    </tr>\n",
       "  </tbody>\n",
       "</table>\n",
       "</div>"
      ],
      "text/plain": [
       "     id                start_time                 stop_time  cpu_count  \\\n",
       "0  1019 2013-08-12 13:35:46+00:00 2013-09-11 13:39:58+00:00          1   \n",
       "1  1023 2013-08-12 13:35:46+00:00 2013-09-11 13:39:58+00:00          1   \n",
       "2  1026 2013-08-12 13:35:46+00:00 2013-09-11 13:39:58+00:00          1   \n",
       "3  1052 2013-08-29 14:38:12+00:00 2013-09-05 07:09:07+00:00          1   \n",
       "4  1073 2013-08-21 11:07:12+00:00 2013-09-11 13:39:58+00:00          1   \n",
       "\n",
       "   cpu_capacity  mem_capacity  \n",
       "0   2926.000135        181352  \n",
       "1   2925.999560        260096  \n",
       "2   2925.999717        249972  \n",
       "3   2926.000107        131245  \n",
       "4   2599.999649        179306  "
      ]
     },
     "execution_count": 75,
     "metadata": {},
     "output_type": "execute_result"
    }
   ],
   "source": [
    "df_meta = pd.read_parquet(f\"{base_folder}/resources/bitbrains-small/trace/meta.parquet\")\n",
    "df_meta.head()"
   ]
  },
  {
   "cell_type": "markdown",
   "id": "13bf9fdb",
   "metadata": {},
   "source": [
    "# Lets run this in OpenDC!"
   ]
  },
  {
   "cell_type": "markdown",
   "id": "c9766446",
   "metadata": {},
   "source": [
    "## Resulting Files"
   ]
  },
  {
   "cell_type": "code",
   "execution_count": 76,
   "id": "0d400ffd",
   "metadata": {},
   "outputs": [],
   "source": [
    "output_folder = f\"{base_folder}/output\"\n",
    "workload = \"workload=bitbrains-small\"\n",
    "seed = \"seed=0\"\n",
    "\n",
    "df_host_single = pd.read_parquet(f\"{output_folder}/host/topology=single/{workload}/{seed}/data.parquet\")\n",
    "df_host_multi = pd.read_parquet(f\"{output_folder}/host/topology=multi/{workload}/{seed}/data.parquet\")\n",
    "\n",
    "df_server_single = pd.read_parquet(f\"{output_folder}/server/topology=single/{workload}/{seed}/data.parquet\")\n",
    "df_server_multi = pd.read_parquet(f\"{output_folder}/server/topology=multi/{workload}/{seed}/data.parquet\")\n",
    "\n",
    "df_service_single = pd.read_parquet(f\"{output_folder}/service/topology=single/{workload}/{seed}/data.parquet\")\n",
    "df_service_multi = pd.read_parquet(f\"{output_folder}/service/topology=multi/{workload}/{seed}/data.parquet\")\n",
    "\n",
    "def add_absolute_timestamp(df, start_dt):\n",
    "    df[\"absolute_timestamp\"] = start_dt + (df[\"timestamp\"] - df[\"timestamp\"].min())\n",
    "\n",
    "add_absolute_timestamp(df_host_single, df_meta[\"start_time\"].min())\n",
    "add_absolute_timestamp(df_host_single, df_meta[\"start_time\"].min())\n",
    "\n",
    "add_absolute_timestamp(df_server_single, df_meta[\"start_time\"].min())\n",
    "add_absolute_timestamp(df_server_multi, df_meta[\"start_time\"].min())\n",
    "\n",
    "add_absolute_timestamp(df_service_single, df_meta[\"start_time\"].min())\n",
    "add_absolute_timestamp(df_service_multi, df_meta[\"start_time\"].min())"
   ]
  },
  {
   "cell_type": "markdown",
   "id": "6d494d6e",
   "metadata": {},
   "source": [
    "### Host"
   ]
  },
  {
   "cell_type": "code",
   "execution_count": 77,
   "id": "48a1e1a6",
   "metadata": {},
   "outputs": [
    {
     "data": {
      "text/plain": [
       "['timestamp',\n",
       " 'host_id',\n",
       " 'cpu_count',\n",
       " 'mem_capacity',\n",
       " 'guests_terminated',\n",
       " 'guests_running',\n",
       " 'guests_error',\n",
       " 'guests_invalid',\n",
       " 'cpu_limit',\n",
       " 'cpu_usage',\n",
       " 'cpu_demand',\n",
       " 'cpu_utilization',\n",
       " 'cpu_time_active',\n",
       " 'cpu_time_idle',\n",
       " 'cpu_time_steal',\n",
       " 'cpu_time_lost',\n",
       " 'power_total',\n",
       " 'uptime',\n",
       " 'downtime',\n",
       " 'boot_time']"
      ]
     },
     "metadata": {},
     "output_type": "display_data"
    },
    {
     "name": "stdout",
     "output_type": "stream",
     "text": [
      "number of measurements: 388881\n"
     ]
    }
   ],
   "source": [
    "display(list(df_host_multi.columns))\n",
    "print(f\"number of measurements: {len(df_host_multi)}\")"
   ]
  },
  {
   "cell_type": "markdown",
   "id": "9eb9be2c",
   "metadata": {},
   "source": [
    "### Server"
   ]
  },
  {
   "cell_type": "code",
   "execution_count": 78,
   "id": "57a2b148",
   "metadata": {},
   "outputs": [
    {
     "data": {
      "text/plain": [
       "['timestamp',\n",
       " 'server_id',\n",
       " 'host_id',\n",
       " 'mem_capacity',\n",
       " 'cpu_count',\n",
       " 'cpu_limit',\n",
       " 'cpu_time_active',\n",
       " 'cpu_time_idle',\n",
       " 'cpu_time_steal',\n",
       " 'cpu_time_lost',\n",
       " 'uptime',\n",
       " 'downtime',\n",
       " 'provision_time',\n",
       " 'boot_time',\n",
       " 'absolute_timestamp']"
      ]
     },
     "metadata": {},
     "output_type": "display_data"
    },
    {
     "name": "stdout",
     "output_type": "stream",
     "text": [
      "number of measurements: 2040140\n"
     ]
    }
   ],
   "source": [
    "display(list(df_server_multi.columns))\n",
    "print(f\"number of measurements: {len(df_server_multi)}\")"
   ]
  },
  {
   "cell_type": "markdown",
   "id": "fbe5f439",
   "metadata": {},
   "source": [
    "### Service"
   ]
  },
  {
   "cell_type": "code",
   "execution_count": 79,
   "id": "9ef468ed",
   "metadata": {
    "scrolled": false
   },
   "outputs": [
    {
     "data": {
      "text/plain": [
       "['timestamp',\n",
       " 'hosts_up',\n",
       " 'hosts_down',\n",
       " 'servers_pending',\n",
       " 'servers_active',\n",
       " 'attempts_success',\n",
       " 'attempts_failure',\n",
       " 'attempts_error',\n",
       " 'absolute_timestamp']"
      ]
     },
     "metadata": {},
     "output_type": "display_data"
    },
    {
     "name": "stdout",
     "output_type": "stream",
     "text": [
      "number of measurements: 43215\n"
     ]
    }
   ],
   "source": [
    "display(list(df_service_single.columns))\n",
    "print(f\"number of measurements: {len(df_host_single)}\")"
   ]
  },
  {
   "cell_type": "markdown",
   "id": "09d31c91",
   "metadata": {},
   "source": [
    "## Power Usage"
   ]
  },
  {
   "cell_type": "code",
   "execution_count": 80,
   "id": "82f0a24a",
   "metadata": {},
   "outputs": [
    {
     "name": "stdout",
     "output_type": "stream",
     "text": [
      "single topology: 822212243.0180907\n",
      "multi topology:   5865297897.085712\n"
     ]
    }
   ],
   "source": [
    "print(f\"single topology: {df_host_single.power_total.sum()}\")\n",
    "print(f\"multi topology:   {df_host_multi.power_total.sum()}\")"
   ]
  },
  {
   "cell_type": "markdown",
   "id": "7ab3357d",
   "metadata": {},
   "source": [
    "## CPU usage"
   ]
  },
  {
   "cell_type": "code",
   "execution_count": 81,
   "id": "e94db3a6",
   "metadata": {},
   "outputs": [
    {
     "name": "stdout",
     "output_type": "stream",
     "text": [
      "single topology: 0.7806848856408527\n",
      "multi topology:   0.3425064770436447\n"
     ]
    }
   ],
   "source": [
    "print(f\"single topology: {df_host_single.cpu_utilization.mean()}\")\n",
    "print(f\"multi topology:   {df_host_multi.cpu_utilization.mean()}\")"
   ]
  },
  {
   "cell_type": "markdown",
   "id": "e000a260",
   "metadata": {},
   "source": [
    "## CPU utilization"
   ]
  },
  {
   "cell_type": "code",
   "execution_count": 82,
   "id": "8d7daa45",
   "metadata": {},
   "outputs": [
    {
     "name": "stdout",
     "output_type": "stream",
     "text": [
      "multi topology:   0.3425064770436447\n",
      "single topology: 0.7806848856408527\n"
     ]
    }
   ],
   "source": [
    "print(f\"multi topology:   {df_host_multi.cpu_utilization.mean()}\")\n",
    "print(f\"single topology: {df_host_single.cpu_utilization.mean()}\")"
   ]
  },
  {
   "cell_type": "markdown",
   "id": "ad97741c",
   "metadata": {},
   "source": [
    "## Plotting Results"
   ]
  },
  {
   "cell_type": "code",
   "execution_count": 83,
   "id": "5df8f9aa",
   "metadata": {},
   "outputs": [
    {
     "data": {
      "image/png": "[encoded data removed]",
      "text/plain": [
       "<Figure size 640x480 with 1 Axes>"
      ]
     },
     "metadata": {},
     "output_type": "display_data"
    }
   ],
   "source": [
    "data = df_host_multi.cpu_utilization\n",
    "plt.hist(data, weights=np.ones_like(data) / len(data),\n",
    "         alpha=0.7, label=\"big\", bins=30)\n",
    "\n",
    "\n",
    "data = df_host_single.cpu_utilization\n",
    "plt.hist(data, weights=np.ones_like(data) / len(data),\n",
    "         alpha=0.7, label=\"small\", bins=30)\n",
    "\n",
    "plt.xlabel(\"CPU utilization\")\n",
    "plt.ylabel(\"Frequency\")\n",
    "plt.legend()\n",
    "plt.show()"
   ]
  },
  {
   "cell_type": "code",
   "execution_count": 84,
   "id": "520e42a4",
   "metadata": {},
   "outputs": [
    {
     "data": {
      "text/plain": [
       "1.000000    30730\n",
       "0.027452       10\n",
       "0.021973       10\n",
       "0.031040       10\n",
       "0.002294       10\n",
       "            ...  \n",
       "0.000003        1\n",
       "0.194198        1\n",
       "0.025827        1\n",
       "0.002296        1\n",
       "0.000009        1\n",
       "Name: cpu_utilization, Length: 2495, dtype: int64"
      ]
     },
     "execution_count": 84,
     "metadata": {},
     "output_type": "execute_result"
    }
   ],
   "source": [
    "df_host_single.cpu_utilization.value_counts()"
   ]
  },
  {
   "cell_type": "code",
   "execution_count": 85,
   "id": "a8c35267",
   "metadata": {},
   "outputs": [
    {
     "data": {
      "text/plain": [
       "array([b'\\xf8\\x8b\\xb8\\xa8rL\\x81\\xec\\x00\\x00\\x00\\x00\\x00\\x00\\x00\\x02',\n",
       "       b'\\x1b9\\x89jQ\\xa8t\\x9b\\x00\\x00\\x00\\x00\\x00\\x00\\x00\\x03',\n",
       "       b'\\xc5\\x84\\x13:\\xc9\\x16\\xab<\\x00\\x00\\x00\\x00\\x00\\x00\\x00\\x00',\n",
       "       b'S\\xcb\\x9f\\x0ct~\\xa2\\xea\\x00\\x00\\x00\\x00\\x00\\x00\\x00\\x04',\n",
       "       b'\\xe2 \\xa89{\\x1d\\xcd\\xaf\\x00\\x00\\x00\\x00\\x00\\x00\\x00\\x00',\n",
       "       b'\\x06\\xc4]\\x18\\x80\\tEO\\x00\\x00\\x00\\x00\\x00\\x00\\x00\\x01',\n",
       "       b',\\x82\\x9a\\xbe\\x1fE2\\xe1\\x00\\x00\\x00\\x00\\x00\\x00\\x00\\x05',\n",
       "       b'>\\xe5x\\x90A\\xc9\\x8a\\xc3\\x00\\x00\\x00\\x00\\x00\\x00\\x00\\x01',\n",
       "       b'nx\\x9ej\\xa1\\xb9e\\xf4\\x00\\x00\\x00\\x00\\x00\\x00\\x00\\x00'],\n",
       "      dtype=object)"
      ]
     },
     "execution_count": 85,
     "metadata": {},
     "output_type": "execute_result"
    }
   ],
   "source": [
    "df_host_multi.host_id.unique()"
   ]
  },
  {
   "cell_type": "code",
   "execution_count": 86,
   "id": "68546b09",
   "metadata": {},
   "outputs": [
    {
     "data": {
      "text/plain": [
       "1     704599\n",
       "4     590754\n",
       "8     388935\n",
       "2     312937\n",
       "32     43215\n",
       "Name: cpu_count, dtype: int64"
      ]
     },
     "execution_count": 86,
     "metadata": {},
     "output_type": "execute_result"
    }
   ],
   "source": [
    "df_server_single.cpu_count.value_counts()"
   ]
  },
  {
   "cell_type": "code",
   "execution_count": 87,
   "id": "326abd0c",
   "metadata": {},
   "outputs": [
    {
     "name": "stdout",
     "output_type": "stream",
     "text": [
      "43209\n",
      "43215\n"
     ]
    }
   ],
   "source": [
    "print(len(df_service_multi))\n",
    "print(len(df_service_single))"
   ]
  },
  {
   "cell_type": "code",
   "execution_count": 88,
   "id": "29ca8e9d",
   "metadata": {},
   "outputs": [
    {
     "data": {
      "text/plain": [
       "<matplotlib.legend.Legend at 0x7fc9612a4640>"
      ]
     },
     "execution_count": 88,
     "metadata": {},
     "output_type": "execute_result"
    },
    {
     "data": {
      "image/png": "[encoded data removed]",
      "text/plain": [
       "<Figure size 640x480 with 1 Axes>"
      ]
     },
     "metadata": {},
     "output_type": "display_data"
    }
   ],
   "source": [
    "import matplotlib.pyplot as plt\n",
    "\n",
    "plt.plot(df_service_single.servers_pending, label=\"servers pending\")\n",
    "plt.plot(df_service_single.servers_active, label=\"servers active\")\n",
    "\n",
    "plt.legend()"
   ]
  },
  {
   "cell_type": "code",
   "execution_count": 89,
   "id": "529a5d02",
   "metadata": {},
   "outputs": [
    {
     "data": {
      "text/plain": [
       "<matplotlib.legend.Legend at 0x7fc93c437f40>"
      ]
     },
     "execution_count": 89,
     "metadata": {},
     "output_type": "execute_result"
    },
    {
     "data": {
      "image/png": "[encoded data removed]",
      "text/plain": [
       "<Figure size 640x480 with 1 Axes>"
      ]
     },
     "metadata": {},
     "output_type": "display_data"
    }
   ],
   "source": [
    "import matplotlib.pyplot as plt\n",
    "\n",
    "plt.plot(df_service_multi.servers_pending, label=\"servers pending\")\n",
    "plt.plot(df_service_multi.servers_active, label=\"servers active\")\n",
    "\n",
    "plt.legend()"
   ]
  },
  {
   "cell_type": "code",
   "execution_count": 90,
   "id": "d3e57f13",
   "metadata": {},
   "outputs": [
    {
     "data": {
      "text/html": [
       "<div>\n",
       "<style scoped>\n",
       "    .dataframe tbody tr th:only-of-type {\n",
       "        vertical-align: middle;\n",
       "    }\n",
       "\n",
       "    .dataframe tbody tr th {\n",
       "        vertical-align: top;\n",
       "    }\n",
       "\n",
       "    .dataframe thead th {\n",
       "        text-align: right;\n",
       "    }\n",
       "</style>\n",
       "<table border=\"1\" class=\"dataframe\">\n",
       "  <thead>\n",
       "    <tr style=\"text-align: right;\">\n",
       "      <th></th>\n",
       "      <th>timestamp</th>\n",
       "      <th>hosts_up</th>\n",
       "      <th>hosts_down</th>\n",
       "      <th>servers_pending</th>\n",
       "      <th>servers_active</th>\n",
       "      <th>attempts_success</th>\n",
       "      <th>attempts_failure</th>\n",
       "      <th>attempts_error</th>\n",
       "      <th>absolute_timestamp</th>\n",
       "    </tr>\n",
       "  </thead>\n",
       "  <tbody>\n",
       "    <tr>\n",
       "      <th>43210</th>\n",
       "      <td>1970-01-31 00:11:00+00:00</td>\n",
       "      <td>1</td>\n",
       "      <td>0</td>\n",
       "      <td>16</td>\n",
       "      <td>0</td>\n",
       "      <td>33</td>\n",
       "      <td>1</td>\n",
       "      <td>0</td>\n",
       "      <td>2013-09-11 13:45:46+00:00</td>\n",
       "    </tr>\n",
       "    <tr>\n",
       "      <th>43211</th>\n",
       "      <td>1970-01-31 00:12:00+00:00</td>\n",
       "      <td>1</td>\n",
       "      <td>0</td>\n",
       "      <td>16</td>\n",
       "      <td>0</td>\n",
       "      <td>33</td>\n",
       "      <td>1</td>\n",
       "      <td>0</td>\n",
       "      <td>2013-09-11 13:46:46+00:00</td>\n",
       "    </tr>\n",
       "    <tr>\n",
       "      <th>43212</th>\n",
       "      <td>1970-01-31 00:13:00+00:00</td>\n",
       "      <td>1</td>\n",
       "      <td>0</td>\n",
       "      <td>16</td>\n",
       "      <td>0</td>\n",
       "      <td>33</td>\n",
       "      <td>1</td>\n",
       "      <td>0</td>\n",
       "      <td>2013-09-11 13:47:46+00:00</td>\n",
       "    </tr>\n",
       "    <tr>\n",
       "      <th>43213</th>\n",
       "      <td>1970-01-31 00:14:00+00:00</td>\n",
       "      <td>1</td>\n",
       "      <td>0</td>\n",
       "      <td>16</td>\n",
       "      <td>0</td>\n",
       "      <td>33</td>\n",
       "      <td>1</td>\n",
       "      <td>0</td>\n",
       "      <td>2013-09-11 13:48:46+00:00</td>\n",
       "    </tr>\n",
       "    <tr>\n",
       "      <th>43214</th>\n",
       "      <td>1970-01-31 00:15:00+00:00</td>\n",
       "      <td>1</td>\n",
       "      <td>0</td>\n",
       "      <td>0</td>\n",
       "      <td>16</td>\n",
       "      <td>49</td>\n",
       "      <td>1</td>\n",
       "      <td>0</td>\n",
       "      <td>2013-09-11 13:49:46+00:00</td>\n",
       "    </tr>\n",
       "  </tbody>\n",
       "</table>\n",
       "</div>"
      ],
      "text/plain": [
       "                      timestamp  hosts_up  hosts_down  servers_pending  \\\n",
       "43210 1970-01-31 00:11:00+00:00         1           0               16   \n",
       "43211 1970-01-31 00:12:00+00:00         1           0               16   \n",
       "43212 1970-01-31 00:13:00+00:00         1           0               16   \n",
       "43213 1970-01-31 00:14:00+00:00         1           0               16   \n",
       "43214 1970-01-31 00:15:00+00:00         1           0                0   \n",
       "\n",
       "       servers_active  attempts_success  attempts_failure  attempts_error  \\\n",
       "43210               0                33                 1               0   \n",
       "43211               0                33                 1               0   \n",
       "43212               0                33                 1               0   \n",
       "43213               0                33                 1               0   \n",
       "43214              16                49                 1               0   \n",
       "\n",
       "             absolute_timestamp  \n",
       "43210 2013-09-11 13:45:46+00:00  \n",
       "43211 2013-09-11 13:46:46+00:00  \n",
       "43212 2013-09-11 13:47:46+00:00  \n",
       "43213 2013-09-11 13:48:46+00:00  \n",
       "43214 2013-09-11 13:49:46+00:00  "
      ]
     },
     "execution_count": 90,
     "metadata": {},
     "output_type": "execute_result"
    }
   ],
   "source": [
    "df_service_single.tail()"
   ]
  },
  {
   "cell_type": "code",
   "execution_count": 91,
   "id": "6e94fba4",
   "metadata": {},
   "outputs": [
    {
     "data": {
      "text/html": [
       "<div>\n",
       "<style scoped>\n",
       "    .dataframe tbody tr th:only-of-type {\n",
       "        vertical-align: middle;\n",
       "    }\n",
       "\n",
       "    .dataframe tbody tr th {\n",
       "        vertical-align: top;\n",
       "    }\n",
       "\n",
       "    .dataframe thead th {\n",
       "        text-align: right;\n",
       "    }\n",
       "</style>\n",
       "<table border=\"1\" class=\"dataframe\">\n",
       "  <thead>\n",
       "    <tr style=\"text-align: right;\">\n",
       "      <th></th>\n",
       "      <th>timestamp</th>\n",
       "      <th>hosts_up</th>\n",
       "      <th>hosts_down</th>\n",
       "      <th>servers_pending</th>\n",
       "      <th>servers_active</th>\n",
       "      <th>attempts_success</th>\n",
       "      <th>attempts_failure</th>\n",
       "      <th>attempts_error</th>\n",
       "      <th>absolute_timestamp</th>\n",
       "    </tr>\n",
       "  </thead>\n",
       "  <tbody>\n",
       "    <tr>\n",
       "      <th>43204</th>\n",
       "      <td>1970-01-31 00:05:00+00:00</td>\n",
       "      <td>9</td>\n",
       "      <td>0</td>\n",
       "      <td>0</td>\n",
       "      <td>48</td>\n",
       "      <td>50</td>\n",
       "      <td>0</td>\n",
       "      <td>0</td>\n",
       "      <td>2013-09-11 12:07:46+00:00</td>\n",
       "    </tr>\n",
       "    <tr>\n",
       "      <th>43205</th>\n",
       "      <td>1970-01-31 00:06:00+00:00</td>\n",
       "      <td>9</td>\n",
       "      <td>0</td>\n",
       "      <td>0</td>\n",
       "      <td>48</td>\n",
       "      <td>50</td>\n",
       "      <td>0</td>\n",
       "      <td>0</td>\n",
       "      <td>2013-09-11 12:08:46+00:00</td>\n",
       "    </tr>\n",
       "    <tr>\n",
       "      <th>43206</th>\n",
       "      <td>1970-01-31 00:07:00+00:00</td>\n",
       "      <td>9</td>\n",
       "      <td>0</td>\n",
       "      <td>0</td>\n",
       "      <td>48</td>\n",
       "      <td>50</td>\n",
       "      <td>0</td>\n",
       "      <td>0</td>\n",
       "      <td>2013-09-11 12:09:46+00:00</td>\n",
       "    </tr>\n",
       "    <tr>\n",
       "      <th>43207</th>\n",
       "      <td>1970-01-31 00:08:00+00:00</td>\n",
       "      <td>9</td>\n",
       "      <td>0</td>\n",
       "      <td>0</td>\n",
       "      <td>48</td>\n",
       "      <td>50</td>\n",
       "      <td>0</td>\n",
       "      <td>0</td>\n",
       "      <td>2013-09-11 12:10:46+00:00</td>\n",
       "    </tr>\n",
       "    <tr>\n",
       "      <th>43208</th>\n",
       "      <td>1970-01-31 00:09:00+00:00</td>\n",
       "      <td>9</td>\n",
       "      <td>0</td>\n",
       "      <td>0</td>\n",
       "      <td>48</td>\n",
       "      <td>50</td>\n",
       "      <td>0</td>\n",
       "      <td>0</td>\n",
       "      <td>2013-09-11 12:11:46+00:00</td>\n",
       "    </tr>\n",
       "  </tbody>\n",
       "</table>\n",
       "</div>"
      ],
      "text/plain": [
       "                      timestamp  hosts_up  hosts_down  servers_pending  \\\n",
       "43204 1970-01-31 00:05:00+00:00         9           0                0   \n",
       "43205 1970-01-31 00:06:00+00:00         9           0                0   \n",
       "43206 1970-01-31 00:07:00+00:00         9           0                0   \n",
       "43207 1970-01-31 00:08:00+00:00         9           0                0   \n",
       "43208 1970-01-31 00:09:00+00:00         9           0                0   \n",
       "\n",
       "       servers_active  attempts_success  attempts_failure  attempts_error  \\\n",
       "43204              48                50                 0               0   \n",
       "43205              48                50                 0               0   \n",
       "43206              48                50                 0               0   \n",
       "43207              48                50                 0               0   \n",
       "43208              48                50                 0               0   \n",
       "\n",
       "             absolute_timestamp  \n",
       "43204 2013-09-11 12:07:46+00:00  \n",
       "43205 2013-09-11 12:08:46+00:00  \n",
       "43206 2013-09-11 12:09:46+00:00  \n",
       "43207 2013-09-11 12:10:46+00:00  \n",
       "43208 2013-09-11 12:11:46+00:00  "
      ]
     },
     "execution_count": 91,
     "metadata": {},
     "output_type": "execute_result"
    }
   ],
   "source": [
    "df_service_multi.tail()"
   ]
  }
 ],
 "metadata": {
  "kernelspec": {
   "display_name": "Python 3 (ipykernel)",
   "language": "python",
   "name": "python3"
  },
  "language_info": {
   "codemirror_mode": {
    "name": "ipython",
    "version": 3
   },
   "file_extension": ".py",
   "mimetype": "text/x-python",
   "name": "python",
   "nbconvert_exporter": "python",
   "pygments_lexer": "ipython3",
   "version": "3.10.12"
  }
 },
 "nbformat": 4,
 "nbformat_minor": 5
}
